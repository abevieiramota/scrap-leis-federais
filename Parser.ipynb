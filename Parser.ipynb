{
 "cells": [
  {
   "cell_type": "code",
   "execution_count": 347,
   "metadata": {
    "collapsed": false
   },
   "outputs": [
    {
     "name": "stdout",
     "output_type": "stream",
     "text": [
      "Art. 1º - Esta Consolidação estatui as normas que (...)\n",
      "\n",
      "Art. 2º - Considera-se empregador a empresa, indiv(...)\n",
      "\n",
      "\t§ 1º - Equiparam-se ao empregador, para os efeitos(...)\n",
      "\n",
      "\t§ 2º - Sempre que uma ou mais empresas, tendo, emb(...)\n",
      "\n",
      "Art. 3º - Considera-se empregado toda pessoa físic(...)\n",
      "\n",
      "\tParágrafo único - Não haverá distinções relativas (...)\n",
      "\n",
      "Art. 4º - Considera-se como de serviço efetivo o p(...)\n",
      "\n",
      "\tParágrafo único - Computar-se-ão, na contagem de t(...)\n",
      "\n",
      "\thttp://www.planalto.gov.br/ccivil_03/LEIS/L4072.htm#art4p\n",
      "\n",
      "Art. 5º - A todo trabalho de igual valor correspon(...)\n",
      "\n",
      "Art. 6o Não se distingue entre o trabalho realizad(...)\n",
      "\n",
      "http://www.planalto.gov.br/ccivil_03/_Ato2011-2014/2011/Lei/L12551.htm#art1\n",
      "\n",
      "\tParágrafo único.  Os meios telemáticos e informati(...)\n",
      "\n",
      "\thttp://www.planalto.gov.br/ccivil_03/_Ato2011-2014/2011/Lei/L12551.htm#art1\n",
      "\n",
      "Art. 7º Os preceitos constantes da presente Consol(...)\n",
      "\n",
      "http://www.planalto.gov.br/ccivil_03/decreto-lei/Del8079.htm#art7\n",
      "\n",
      "Art. 8º - As autoridades administrativas e a Justi(...)\n",
      "\n",
      "\tParágrafo único - O direito comum será fonte subsi(...)\n",
      "\n",
      "Art. 9º - Serão nulos de pleno direito os atos pra(...)\n",
      "\n",
      "Art. 10 - Qualquer alteração na estrutura jurídica(...)\n",
      "\n",
      "Art. 11 - O direito de ação quanto a créditos resu(...)\n",
      "\n",
      "http://www.planalto.gov.br/ccivil_03/LEIS/L9658.htm#art1\n",
      "\n",
      "\t§ 1º O disposto neste artigo não se aplica às açõe(...)\n",
      "\n",
      "\thttp://www.planalto.gov.br/ccivil_03/LEIS/L9658.htm#art1\n",
      "\n",
      "Art. 12 - Os preceitos concernentes ao regime de s(...)\n",
      "\n"
     ]
    }
   ],
   "source": [
    "lei = extrai_lei(ps)\n",
    "titulo = extrai_titulo(lei[\"I\"])\n",
    "for artigo_id, artigo_p in titulo[\"artigos\"].items():\n",
    "    \n",
    "    artigo = extrai_artigo(artigo_p)\n",
    "    \n",
    "    print(\"{}(...)\\n\".format(artigo[\"texto\"][:50]))\n",
    "    if artigo[\"link\"]:\n",
    "\n",
    "        print(\"{}\\n\".format(artigo[\"link\"]))\n",
    "    \n",
    "    for paragrafo_id, paragrafo_p in artigo[\"paragrafos\"].items():\n",
    "        \n",
    "        paragrafo = extrai_paragrafo(paragrafo_p)\n",
    "        \n",
    "        print(\"\\t{}(...)\\n\".format(paragrafo[\"texto\"][:50]))\n",
    "        if paragrafo[\"link\"]:\n",
    "            \n",
    "            print(\"\\t{}\\n\".format(paragrafo[\"link\"]))"
   ]
  },
  {
   "cell_type": "code",
   "execution_count": 109,
   "metadata": {
    "collapsed": false
   },
   "outputs": [],
   "source": [
    "# biblioteca para requisição http\n",
    "import requests\n",
    "# biblioteca para parse do HTML retornado\n",
    "from bs4 import BeautifulSoup\n",
    "# biblioteca de expressão regular\n",
    "import re\n",
    "# biblioteca utilizada para construir as urls absolutas a partir das relativas\n",
    "from urllib.parse import urljoin\n",
    "from collections import OrderedDict"
   ]
  },
  {
   "cell_type": "code",
   "execution_count": 8,
   "metadata": {
    "collapsed": false
   },
   "outputs": [],
   "source": [
    "# Requisição sem User-Agent não estava sendo respondida...\n",
    "# http://stackoverflow.com/a/27652558/3662965\n",
    "headers = {'User-Agent': 'Mozilla/5.0 (Macintosh; Intel Mac OS X 10_10_1) AppleWebKit/537.36 (KHTML, like Gecko) Chrome/39.0.2171.95 Safari/537.36'}\n",
    "url = \"http://www.planalto.gov.br/ccivil_03/decreto-lei/Del5452.htm\"\n",
    "\n",
    "r = requests.get(url, headers=headers)\n",
    "\n",
    "html = r.text\n",
    "\n",
    "lei_parsed = BeautifulSoup(html, \"lxml\")"
   ]
  },
  {
   "cell_type": "markdown",
   "metadata": {},
   "source": [
    "http://www2.camara.leg.br/documentos-e-pesquisa/publicacoes/estnottec/copy_of_portas-abertas-1/Palestra%208.pdf"
   ]
  },
  {
   "cell_type": "markdown",
   "metadata": {},
   "source": [
    "# É a expressão regular"
   ]
  },
  {
   "cell_type": "code",
   "execution_count": null,
   "metadata": {
    "collapsed": true
   },
   "outputs": [],
   "source": []
  },
  {
   "cell_type": "markdown",
   "metadata": {},
   "source": [
    "# CONSOLIDAÇÃO DAS LEIS DO TRABALHO"
   ]
  },
  {
   "cell_type": "code",
   "execution_count": 3,
   "metadata": {
    "collapsed": true
   },
   "outputs": [],
   "source": [
    "class PedacoDeLei:\n",
    "    \n",
    "    def __init__(self, text, old=None):\n",
    "        \n",
    "        self.texto = texto\n",
    "        self.old = old\n",
    "        \n",
    "    def __str__(self):\n",
    "        \n",
    "        return \"{}\\n{}\".format(self.texto, self.old)\n",
    "\n",
    "class Alinea(PedacoDeLei):\n",
    "    \n",
    "    pass\n",
    "\n",
    "class Paragrafo(PedacoDeLei):\n",
    "    \n",
    "    pass\n",
    "\n",
    "class Artigo(PedacoDeLei):\n",
    "    \n",
    "    pass\n",
    "\n",
    "class Lei(PedacoDeLei):\n",
    "    \n",
    "    def __init__(self, titulo, texto, old=None):\n",
    "        \n",
    "        PedacoDeLei.__init__(self, texto, old)\n",
    "        self.titulo = titulo\n",
    "        \n",
    "    def __str__(self):\n",
    "        \n",
    "        return \"{}\\n{}\".format(self.titulo, super(Lei, self))"
   ]
  },
  {
   "cell_type": "markdown",
   "metadata": {},
   "source": [
    "TODO: Parágrafo único alterado"
   ]
  },
  {
   "cell_type": "code",
   "execution_count": 333,
   "metadata": {
    "collapsed": false
   },
   "outputs": [
    {
     "data": {
      "text/plain": [
       "[<p align=\"justify\" style=\"text-indent: 35px\">\n",
       " <font face=\"Arial\" size=\"2\"><a name=\"art7e\"></a><strike>e) aos empregados das\n",
       " empresas de propriedade da União Federal, quando por esta\n",
       " ou pelos Estados administradas, salvo em se tratando daquelas cuja propriedade ou\n",
       " administração resultem de circunstâncias transitórias.</strike></font></p>,\n",
       " <p align=\"justify\" style=\"text-indent: 35px\"><font face=\"Arial\" size=\"2\">\n",
       " <strike><a name=\"art7p\"></a>Parágrafo único -  Aos\n",
       " trabalhadores ao serviço de empresas industriais da União, dos Estados e dos\n",
       " Municípios, salvo aqueles classificados como funcionários públicos, aplicam-se os\n",
       " preceitos da presente Consolidação. <a href=\"Del8079.htm#art7c\">(Incluído pelo\n",
       " Decreto-lei nº 8.079, 11.10.1945)</a> </strike>        <a href=\"1937-1946/Del8249.htm#art5\">(Revogado\n",
       " pelo Decreto-lei nº 8.249, de 1945)</a></font></p>]"
      ]
     },
     "execution_count": 333,
     "metadata": {},
     "output_type": "execute_result"
    }
   ],
   "source": [
    "lei = extrai_lei(ps)\n",
    "titulo = extrai_titulo(lei[\"I\"])\n",
    "artigo = extrai_artigo(titulo[\"artigos\"][\"7\"])\n",
    "artigo[\"incisos\"][\"e\"]\n",
    "#paragrafo = extrai_paragrafo(artigo[\"paragrafos\"][\"2\"]); paragrafo\n",
    "#paragrafo = extrai_paragrafo(artigo[\"paragrafos\"][\"Parágrafo único\"]); paragrafo\n",
    "#paragrafo = extrai_paragrafo(artigo[\"old\"]); paragrafo\n"
   ]
  },
  {
   "cell_type": "code",
   "execution_count": null,
   "metadata": {
    "collapsed": true
   },
   "outputs": [],
   "source": []
  },
  {
   "cell_type": "code",
   "execution_count": null,
   "metadata": {
    "collapsed": true
   },
   "outputs": [],
   "source": []
  },
  {
   "cell_type": "markdown",
   "metadata": {},
   "source": [
    "# Versão atual"
   ]
  },
  {
   "cell_type": "code",
   "execution_count": 240,
   "metadata": {
    "collapsed": true
   },
   "outputs": [],
   "source": [
    "rn_re = re.compile(r\"[\\n\\r\\t\\xa0]+\")"
   ]
  },
  {
   "cell_type": "code",
   "execution_count": 227,
   "metadata": {
    "collapsed": true
   },
   "outputs": [],
   "source": [
    "def particiona_por(iterator, is_novo_item):\n",
    "    \n",
    "    particoes = OrderedDict()\n",
    "    current_item_id = None\n",
    "    \n",
    "    for i in iterator:\n",
    "        \n",
    "        item_id = is_novo_item(i)\n",
    "        \n",
    "        if item_id:\n",
    "            current_item_id = item_id\n",
    "        \n",
    "        if current_item_id in particoes:\n",
    "            \n",
    "            particoes[current_item_id].append(i)\n",
    "        elif current_item_id:\n",
    "            \n",
    "            particoes[current_item_id] = [i]\n",
    "        \n",
    "    return particoes"
   ]
  },
  {
   "cell_type": "markdown",
   "metadata": {},
   "source": [
    "#### Titulos"
   ]
  },
  {
   "cell_type": "code",
   "execution_count": 176,
   "metadata": {
    "collapsed": true
   },
   "outputs": [],
   "source": [
    "titulo_re = re.compile(r\"^[\\n\\r\\t\\xa0]*TÍTULO\\ (?P<num>[IVX]+)$\")\n",
    "\n",
    "def is_inicio_titulo(p):\n",
    "    \n",
    "    match = titulo_re.match(p.text)\n",
    "    \n",
    "    if match:\n",
    "        \n",
    "        return match.group(\"num\")\n",
    "    else:\n",
    "        \n",
    "        return None\n",
    "\n",
    "def extrai_lei(ps):\n",
    "    \n",
    "    return particiona_por(ps, is_inicio_titulo)"
   ]
  },
  {
   "cell_type": "markdown",
   "metadata": {},
   "source": [
    "#### Artigos"
   ]
  },
  {
   "cell_type": "code",
   "execution_count": 266,
   "metadata": {
    "collapsed": false
   },
   "outputs": [],
   "source": [
    "artigo_re = re.compile(r\"^[\\n\\r\\t\\xa0]*Art.[\\n\\r\\t\\xa0\\ ]+(?P<num>\\d+)\")\n",
    "\n",
    "def is_inicio_artigo(p):\n",
    "    \n",
    "    match = artigo_re.match(p.text)\n",
    "    \n",
    "    if match:\n",
    "        \n",
    "        return match.group(\"num\")\n",
    "    else:\n",
    "        \n",
    "        return None\n",
    "\n",
    "def extrai_titulo(ps):\n",
    "    \n",
    "    p_titulo = ps[0]\n",
    "    \n",
    "    artigos = particiona_por(ps[1:], is_inicio_artigo)\n",
    "    \n",
    "    titulo = {\"titulo\": p_titulo,\n",
    "              \"artigos\": artigos}\n",
    "    \n",
    "    return titulo"
   ]
  },
  {
   "cell_type": "markdown",
   "metadata": {},
   "source": [
    "#### Parágrafos"
   ]
  },
  {
   "cell_type": "code",
   "execution_count": 331,
   "metadata": {
    "collapsed": false
   },
   "outputs": [],
   "source": [
    "paragrafo_re = re.compile(r\"^[\\n\\r\\t\\xa0]*(§\\s+(?P<num>\\d+)|Parágrafo\\ único)\")\n",
    "\n",
    "def is_inicio_paragrafo(p):\n",
    "    \n",
    "    tem_strike = p.find(\"strike\")\n",
    "    match = paragrafo_re.match(p.text)\n",
    "    \n",
    "    if match and not tem_strike:\n",
    "        tem_num = match.group(\"num\")\n",
    "        \n",
    "        if tem_num:\n",
    "            return tem_num\n",
    "        else:\n",
    "            return \"Parágrafo único\"\n",
    "    else:\n",
    "        \n",
    "        return None\n",
    "    \n",
    "inciso_re = re.compile(r\"[\\n\\r\\t\\xa0]*(?P<num>(?:[IXV]+\\ \\-)|(?:[a-z]+(?=\\))))\")\n",
    "\n",
    "def is_inicio_inciso(p):\n",
    "    \n",
    "    match = inciso_re.match(p.text)\n",
    "    \n",
    "    if match:\n",
    "        \n",
    "        return match.group(\"num\")\n",
    "    else:\n",
    "        \n",
    "        return None\n",
    "\n",
    "def extrai_artigo(ps):\n",
    "    \n",
    "    old = []\n",
    "    p = ps[0]\n",
    "    \n",
    "    while p.find(\"strike\"):\n",
    "        \n",
    "        old.append(p)\n",
    "        p = ps[len(old)]\n",
    "    \n",
    "    texto_p = ps[len(old)]\n",
    "    \n",
    "    link = None\n",
    "    anchors = texto_p.find_all(\"a\")\n",
    "    if anchors and anchors[-1].has_attr(\"href\"):\n",
    "        \n",
    "        relative_url = anchors[-1][\"href\"]\n",
    "        link = urljoin(url, relative_url)\n",
    "        \n",
    "    paragrafos = particiona_por(ps[len(old)+1:], is_inicio_paragrafo)\n",
    "    \n",
    "    incisos = None\n",
    "    if not paragrafos:\n",
    "        \n",
    "        incisos = particiona_por(ps[len(old)+1:], is_inicio_inciso)\n",
    "    \n",
    "    artigo = {\"texto\":  rn_re.sub(\" \", texto_p.text).strip(),\n",
    "              \"incisos\": incisos,\n",
    "              \"paragrafos\": paragrafos,\n",
    "              \"old\": old,\n",
    "              \"link\": link}\n",
    "    \n",
    "    return artigo"
   ]
  },
  {
   "cell_type": "markdown",
   "metadata": {},
   "source": [
    "#### Incisos"
   ]
  },
  {
   "cell_type": "code",
   "execution_count": null,
   "metadata": {
    "collapsed": true
   },
   "outputs": [],
   "source": []
  },
  {
   "cell_type": "code",
   "execution_count": null,
   "metadata": {
    "collapsed": true
   },
   "outputs": [],
   "source": []
  },
  {
   "cell_type": "code",
   "execution_count": null,
   "metadata": {
    "collapsed": true
   },
   "outputs": [],
   "source": []
  },
  {
   "cell_type": "code",
   "execution_count": null,
   "metadata": {
    "collapsed": true
   },
   "outputs": [],
   "source": []
  },
  {
   "cell_type": "code",
   "execution_count": null,
   "metadata": {
    "collapsed": true
   },
   "outputs": [],
   "source": []
  },
  {
   "cell_type": "code",
   "execution_count": null,
   "metadata": {
    "collapsed": true
   },
   "outputs": [],
   "source": []
  },
  {
   "cell_type": "code",
   "execution_count": null,
   "metadata": {
    "collapsed": true
   },
   "outputs": [],
   "source": []
  },
  {
   "cell_type": "code",
   "execution_count": 182,
   "metadata": {
    "collapsed": false
   },
   "outputs": [],
   "source": [
    "#TODO\n",
    "# identificar unidades de texto(parágrafo, inciso, artigo etc) e \n",
    "#    trabalhar melhor a identificação de versões antigas\n",
    "\n",
    "# talvez processar primeiro o atual\n",
    "# depois extrair o antigo\n",
    "# e ir preenchendo o atual com o antigo\n",
    "# pq, por exemplo, Art. 15 foi alterado 2 vezes\n",
    "# a estrutura atual não comporta isso\n",
    "\n",
    "clt = []\n",
    "\n",
    "titulo_re = re.compile(r\"^TÍTULO .*$\")\n",
    "rn_re = re.compile(r\"[\\n\\r\\t\\xa0]+\")\n",
    "artigo_re = re.compile(r\"^Art. \\d+\")\n",
    "paragrafo_re = re.compile(r\"^(§|Parágrafo\\ único)\")\n",
    "\n",
    "titulo_atual = None\n",
    "artigo_atual = None\n",
    "antigo = None\n",
    "\n",
    "for p in ps:\n",
    "    \n",
    "    p_content = rn_re.sub(\" \", p.text).strip()\n",
    "\n",
    "    if p.find(\"strike\"):\n",
    "\n",
    "        antigo = p_content\n",
    "        continue\n",
    "\n",
    "    if titulo_re.match(p_content):\n",
    "\n",
    "        titulo_atual = {\"nome\": p_content, \n",
    "                        \"descricao\": None,\n",
    "                        \"artigos\": []}\n",
    "        clt.append(titulo_atual)\n",
    "    elif titulo_atual:\n",
    "\n",
    "        if p_content.isupper():\n",
    "\n",
    "            titulo_atual[\"descricao\"] = p_content\n",
    "        else:\n",
    "            \n",
    "            last_url = None\n",
    "            anchors = p.find_all(\"a\")\n",
    "            if anchors and anchors[-1].has_attr(\"href\"):\n",
    "                \n",
    "                relative_url = anchors[-1]['href']\n",
    "                last_url = urljoin(url, relative_url)\n",
    "\n",
    "            if artigo_re.match(p_content):\n",
    "\n",
    "                artigo_atual = {\"texto\": p_content,\n",
    "                                \"paragrafos\": [],\n",
    "                                \"old\": antigo,\n",
    "                                \"link\": last_url,\n",
    "                                \"alineas\": []}\n",
    "                titulo_atual[\"artigos\"].append(artigo_atual)\n",
    "\n",
    "                antigo = None\n",
    "            elif paragrafo_re.match(p_content):\n",
    "                \n",
    "                paragrafo = {\"texto\": p_content,\n",
    "                             \"link\": last_url,\n",
    "                             \"old\": antigo}\n",
    "\n",
    "                artigo_atual[\"paragrafos\"].append(paragrafo)\n",
    "                \n",
    "                antigo = None\n",
    "            else:\n",
    "                # suponho ser continuação do parágrafo anterior\n",
    "                \n",
    "                alinea = {\"texto\": p_content,\n",
    "                          \"link\": last_url,\n",
    "                          \"old\": antigo}\n",
    "                \n",
    "                artigo_atual[\"alineas\"].append(alinea)\n",
    "                \n",
    "                antigo = None"
   ]
  },
  {
   "cell_type": "code",
   "execution_count": 217,
   "metadata": {
    "collapsed": false
   },
   "outputs": [],
   "source": [
    "def print_artigo(titulo, artigo):\n",
    "\n",
    "    artigo = clt[titulo-1][\"artigos\"][artigo-1]\n",
    "\n",
    "    print(\"Versão antiga:\\n\")\n",
    "    print(artigo[\"old\"])\n",
    "    print(\"\\n\")\n",
    "    print(\"Versão atual:\\n\")\n",
    "    print(artigo['texto'])\n",
    "    print(artigo[\"link\"])\n",
    "    print(\"\\n\")\n",
    "    for paragrafo in artigo[\"paragrafos\"]:\n",
    "\n",
    "        print(\"\\t\"+paragrafo[\"texto\"])\n",
    "        print(\"\\n\")\n",
    "        \n",
    "    for alinea in artigo[\"alineas\"]:\n",
    "            \n",
    "        print(\"\\t\" + alinea[\"texto\"])\n",
    "        print(alinea[\"link\"])\n",
    "        print(\"\\n\")"
   ]
  },
  {
   "cell_type": "code",
   "execution_count": 218,
   "metadata": {
    "collapsed": false
   },
   "outputs": [
    {
     "name": "stdout",
     "output_type": "stream",
     "text": [
      "Versão antiga:\n",
      "\n",
      "Art. 7º - Os preceitos constantes da presente Consolidação, salvo quando for, em cada caso, expressamente determinado em contrário, não se aplicam:\n",
      "\n",
      "\n",
      "Versão atual:\n",
      "\n",
      "Art. 7º Os preceitos constantes da presente Consolidação salvo quando fôr em cada caso, expressamente determinado em contrário, não se aplicam : (Redação dada pelo Decreto-lei nº 8.079, 11.10.1945)\n",
      "http://www.planalto.gov.br/ccivil_03/decreto-lei/Del8079.htm#art7\n",
      "\n",
      "\n",
      "\ta) aos empregados domésticos, assim considerados, de um modo geral, os que prestam serviços de natureza não-econômica à pessoa ou à família, no âmbito residencial destas;\n",
      "None\n",
      "\n",
      "\n",
      "\tb) aos trabalhadores rurais, assim considerados aqueles que, exercendo funções diretamente ligadas à agricultura e à pecuária, não sejam empregados em atividades que, pelos métodos de execução dos respectivos trabalhos ou pela finalidade de suas operações, se classifiquem como industriais ou comerciais;\n",
      "None\n",
      "\n",
      "\n",
      "\tc) aos funcionários públicos da União, dos Estados e dos Municípios e aos respectivos extranumerários em serviço nas próprias repartições; (Redação dada pelo Decreto-lei nº 8.079, 11.10.1945)\n",
      "http://www.planalto.gov.br/ccivil_03/decreto-lei/Del8079.htm#art7c\n",
      "\n",
      "\n",
      "\td) aos servidores de autarquias paraestatais, desde que sujeitos a regime próprio de proteção ao trabalho que lhes assegure situação análoga à dos funcionários públicos. (Redação dada pelo Decreto-lei nº 8.079, 11.10.1945)\n",
      "http://www.planalto.gov.br/ccivil_03/decreto-lei/Del8079.htm#art7c\n",
      "\n",
      "\n"
     ]
    }
   ],
   "source": [
    "print_artigo(titulo=1, artigo=7)"
   ]
  },
  {
   "cell_type": "code",
   "execution_count": null,
   "metadata": {
    "collapsed": true
   },
   "outputs": [],
   "source": []
  }
 ],
 "metadata": {
  "anaconda-cloud": {},
  "kernelspec": {
   "display_name": "Python [conda root]",
   "language": "python",
   "name": "conda-root-py"
  },
  "language_info": {
   "codemirror_mode": {
    "name": "ipython",
    "version": 3
   },
   "file_extension": ".py",
   "mimetype": "text/x-python",
   "name": "python",
   "nbconvert_exporter": "python",
   "pygments_lexer": "ipython3",
   "version": "3.5.2"
  }
 },
 "nbformat": 4,
 "nbformat_minor": 1
}
